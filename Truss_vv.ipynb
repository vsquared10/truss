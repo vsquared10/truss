{
 "cells": [
  {
   "cell_type": "markdown",
   "metadata": {},
   "source": [
    "_This is one of the steps in the Truss interview process. If you've\n",
    "stumbled upon this repository and are interested in a career with\n",
    "Truss, [check out our jobs page](https://truss.works/jobs)._\n",
    "\n",
    "# Truss Software Engineering Interview\n",
    "\n",
    "## Introduction and expectations\n",
    "\n",
    "Hi there! Please complete the problem described below to the best of\n",
    "your ability, using the tools you're most comfortable with. Assume\n",
    "you're sending your submission in for code review from peers;\n",
    "we'll be talking about your submission in your interview in that\n",
    "context.\n",
    "\n",
    "We expect this to take less than 4 hours of actual coding time. Please\n",
    "submit a working but incomplete solution instead of spending more time\n",
    "on it. We're also aware that getting after-hours coding time can be\n",
    "challenging; we'd like a submission within a week and if you need more\n",
    "time please let us know.\n",
    "\n",
    "If you have any questions, please contact hiring@truss.works; we're\n",
    "happy to help if you're not sure what we're asking for or if you have\n",
    "questions.\n",
    "\n",
    "## How to submit your response\n",
    "\n",
    "Please send hiring@truss.works a link to a public git repository\n",
    "(Github is fine) that contains your code and a README.md that tells us\n",
    "how to build and run it. Your code will be run on either macOS 10.13\n",
    "or Ubuntu 16.04 LTS, your choice.\n",
    "\n",
    "## The problem: CSV normalization\n",
    "\n",
    "Please write a tool that reads a CSV formatted file on `stdin` and\n",
    "emits a normalized CSV formatted file on `stdout`. Normalized, in this\n",
    "case, means:\n",
    "\n",
    "* The entire CSV is in the UTF-8 character set.\n",
    "* The Timestamp column should be formatted in ISO-8601 format.\n",
    "* The Timestamp column should be assumed to be in US/Pacific time;\n",
    "  please convert it to US/Eastern.\n",
    "* All ZIP codes should be formatted as 5 digits. If there are less\n",
    "  than 5 digits, assume 0 as the prefix.\n",
    "* All name columns should be converted to uppercase. There will be\n",
    "  non-English names.\n",
    "* The Address column should be passed through as is, except for\n",
    "  Unicode validation. Please note there are commas in the Address\n",
    "  field; your CSV parsing will need to take that into account. Commas\n",
    "  will only be present inside a quoted string.\n",
    "* The columns `FooDuration` and `BarDuration` are in HH:MM:SS.MS\n",
    "  format (where MS is milliseconds); please convert them to a floating\n",
    "  point seconds format.\n",
    "* The column \"TotalDuration\" is filled with garbage data. For each\n",
    "  row, please replace the value of TotalDuration with the sum of\n",
    "  FooDuration and BarDuration.\n",
    "* The column \"Notes\" is free form text input by end-users; please do\n",
    "  not perform any transformations on this column. If there are invalid\n",
    "  UTF-8 characters, please replace them with the Unicode Replacement\n",
    "  Character.\n",
    "\n",
    "You can assume that the input document is in UTF-8 and that any times\n",
    "that are missing timezone information are in US/Pacific. If a\n",
    "character is invalid, please replace it with the Unicode Replacement\n",
    "Character. If that replacement makes data invalid (for example,\n",
    "because it turns a date field into something unparseable), print a\n",
    "warning to `stderr` and drop the row from your output.\n",
    "\n",
    "You can assume that the sample data we provide will contain all date\n",
    "and time format variants you will need to handle.\n",
    "\n"
   ]
  },
  {
   "cell_type": "code",
   "execution_count": 498,
   "metadata": {},
   "outputs": [],
   "source": [
    "from datetime import datetime, timedelta\n",
    "import pandas as pd"
   ]
  },
  {
   "cell_type": "code",
   "execution_count": 495,
   "metadata": {},
   "outputs": [],
   "source": [
    "def change_encoding(data, cols):\n",
    "    for col in cols:\n",
    "        try:\n",
    "            data[col] = data[col].encode('raw_unicode_escape').decode('utf-8')\n",
    "        except UnicodeDecodeError:\n",
    "            data[col] = data[col].encode('utf-8')\n",
    "    return data \n",
    "\n",
    "def convert_time(row, num_hours):\n",
    "    new_time = pd.to_datetime(row['Timestamp']) - timedelta(hours=num_hours)\n",
    "    return new_time.isoformat()\n",
    "\n",
    "def fix_zip(row, norm_len=5):\n",
    "    word = str(row.ZIP)\n",
    "    if len(word) < 5:\n",
    "        new_zip = word.zfill(norm_len)\n",
    "        return new_zip\n",
    "    return str(row.ZIP)\n",
    "\n",
    "def time_diff(row):\n",
    "    try:\n",
    "        foo = datetime.datetime.strptime(row['FooDuration'], \"%H:%M:%S.%f\")\n",
    "        foo_elements = {'hours': foo.hour, 'minutes': foo.minute, 'seconds': foo.second,\n",
    "                    'microseconds': foo.microsecond}\n",
    "        foo_td = timedelta(**foo_elements)\n",
    "    except ValueError:\n",
    "        hours, rest = row['FooDuration'].split(':', 1)\n",
    "        r = datetime.datetime.strptime(rest, \"%M:%S.%f\")\n",
    "        r_elem = {'hours':  r.hour, 'minutes':  r.minute, 'seconds':  r.second, 'microseconds': r.microsecond}\n",
    "        foo_td = timedelta(hours=int(hours)) + timedelta(**r_elem)\n",
    "    try:\n",
    "        bar = datetime.datetime.strptime(row['BarDuration'], \"%H:%M:%S.%f\")\n",
    "        bar_elements = {'hours':  bar.hour, 'minutes':  bar.minute, 'seconds':  bar.second,\n",
    "                        'microseconds': bar.microsecond}\n",
    "        bar_td = timedelta(**bar_elements)\n",
    "    except ValueError:\n",
    "        hours, rest = row['BarDuration'].split(':', 1)\n",
    "        r = datetime.datetime.strptime(rest, \"%M:%S.%f\")\n",
    "        r_elem = {'hours':  r.hour, 'minutes':  r.minute, 'seconds':  r.second, 'microseconds': r.microsecond}\n",
    "        bar_td = timedelta(hours=int(hours)) + timedelta(**r_elem)\n",
    "#     return str(foo_td + bar_td)\n",
    "    return (foo_td + bar_td).total_seconds()\n",
    "\n",
    "def note_fixer(row):\n",
    "    try:\n",
    "        return row.encode('utf-8').decode('utf8', 'replace')\n",
    "    except AttributeError:\n",
    "        return row.decode('utf8', 'replace').encode('raw_unicode_escape').decode('utf-8', 'replace')"
   ]
  },
  {
   "cell_type": "code",
   "execution_count": 168,
   "metadata": {},
   "outputs": [],
   "source": [
    "sample = pd.read_csv('sample.csv')"
   ]
  },
  {
   "cell_type": "code",
   "execution_count": 169,
   "metadata": {
    "scrolled": true
   },
   "outputs": [
    {
     "data": {
      "text/html": [
       "<div>\n",
       "<style scoped>\n",
       "    .dataframe tbody tr th:only-of-type {\n",
       "        vertical-align: middle;\n",
       "    }\n",
       "\n",
       "    .dataframe tbody tr th {\n",
       "        vertical-align: top;\n",
       "    }\n",
       "\n",
       "    .dataframe thead th {\n",
       "        text-align: right;\n",
       "    }\n",
       "</style>\n",
       "<table border=\"1\" class=\"dataframe\">\n",
       "  <thead>\n",
       "    <tr style=\"text-align: right;\">\n",
       "      <th></th>\n",
       "      <th>Timestamp</th>\n",
       "      <th>Address</th>\n",
       "      <th>ZIP</th>\n",
       "      <th>FullName</th>\n",
       "      <th>FooDuration</th>\n",
       "      <th>BarDuration</th>\n",
       "      <th>TotalDuration</th>\n",
       "      <th>Notes</th>\n",
       "    </tr>\n",
       "  </thead>\n",
       "  <tbody>\n",
       "    <tr>\n",
       "      <th>0</th>\n",
       "      <td>4/1/11 11:00:00 AM</td>\n",
       "      <td>123 4th St, Anywhere, AA</td>\n",
       "      <td>94121</td>\n",
       "      <td>Monkey Alberto</td>\n",
       "      <td>1:23:32.123</td>\n",
       "      <td>1:32:33.123</td>\n",
       "      <td>zzsasdfa</td>\n",
       "      <td>I am the very model of a modern major general</td>\n",
       "    </tr>\n",
       "    <tr>\n",
       "      <th>1</th>\n",
       "      <td>3/12/14 12:00:00 AM</td>\n",
       "      <td>Somewhere Else, In Another Time, BB</td>\n",
       "      <td>1</td>\n",
       "      <td>Superman übertan</td>\n",
       "      <td>111:23:32.123</td>\n",
       "      <td>1:32:33.123</td>\n",
       "      <td>zzsasdfa</td>\n",
       "      <td>This is some Unicode right here. ü ¡! 😀</td>\n",
       "    </tr>\n",
       "    <tr>\n",
       "      <th>2</th>\n",
       "      <td>2/29/16 12:11:11 PM</td>\n",
       "      <td>111 Ste. #123123123</td>\n",
       "      <td>1101</td>\n",
       "      <td>Résumé Ron</td>\n",
       "      <td>31:23:32.123</td>\n",
       "      <td>1:32:33.123</td>\n",
       "      <td>zzsasdfa</td>\n",
       "      <td>🏳️🏴🏳️🏴</td>\n",
       "    </tr>\n",
       "    <tr>\n",
       "      <th>3</th>\n",
       "      <td>1/1/11 12:00:01 AM</td>\n",
       "      <td>This Is Not An Address, BusyTown, BT</td>\n",
       "      <td>94121</td>\n",
       "      <td>Mary 1</td>\n",
       "      <td>1:23:32.123</td>\n",
       "      <td>0:00:00.000</td>\n",
       "      <td>zzsasdfa</td>\n",
       "      <td>I like Emoji! 🍏🍎😍</td>\n",
       "    </tr>\n",
       "    <tr>\n",
       "      <th>4</th>\n",
       "      <td>12/31/16 11:59:59 PM</td>\n",
       "      <td>123 Gangnam Style Lives Here, Gangnam Town</td>\n",
       "      <td>31403</td>\n",
       "      <td>Anticipation of Unicode Failure</td>\n",
       "      <td>1:23:32.123</td>\n",
       "      <td>1:32:33.123</td>\n",
       "      <td>zzsasdfa</td>\n",
       "      <td>I like Math Symbols! ≱≰⨌⊚</td>\n",
       "    </tr>\n",
       "  </tbody>\n",
       "</table>\n",
       "</div>"
      ],
      "text/plain": [
       "              Timestamp                                     Address    ZIP  \\\n",
       "0    4/1/11 11:00:00 AM                    123 4th St, Anywhere, AA  94121   \n",
       "1   3/12/14 12:00:00 AM         Somewhere Else, In Another Time, BB      1   \n",
       "2   2/29/16 12:11:11 PM                         111 Ste. #123123123   1101   \n",
       "3    1/1/11 12:00:01 AM        This Is Not An Address, BusyTown, BT  94121   \n",
       "4  12/31/16 11:59:59 PM  123 Gangnam Style Lives Here, Gangnam Town  31403   \n",
       "\n",
       "                          FullName    FooDuration  BarDuration TotalDuration  \\\n",
       "0                   Monkey Alberto    1:23:32.123  1:32:33.123      zzsasdfa   \n",
       "1                 Superman übertan  111:23:32.123  1:32:33.123      zzsasdfa   \n",
       "2                       Résumé Ron   31:23:32.123  1:32:33.123      zzsasdfa   \n",
       "3                           Mary 1    1:23:32.123  0:00:00.000      zzsasdfa   \n",
       "4  Anticipation of Unicode Failure    1:23:32.123  1:32:33.123      zzsasdfa   \n",
       "\n",
       "                                           Notes  \n",
       "0  I am the very model of a modern major general  \n",
       "1        This is some Unicode right here. ü ¡! 😀  \n",
       "2                                         🏳️🏴🏳️🏴  \n",
       "3                              I like Emoji! 🍏🍎😍  \n",
       "4                      I like Math Symbols! ≱≰⨌⊚  "
      ]
     },
     "execution_count": 169,
     "metadata": {},
     "output_type": "execute_result"
    }
   ],
   "source": [
    "sample.head()"
   ]
  },
  {
   "cell_type": "code",
   "execution_count": 460,
   "metadata": {
    "scrolled": true
   },
   "outputs": [],
   "source": [
    "broken_utf8 = pd.read_csv('sample-with-broken-utf8.csv', encoding='ISO-8859-1')"
   ]
  },
  {
   "cell_type": "code",
   "execution_count": 371,
   "metadata": {},
   "outputs": [],
   "source": [
    "text_cols = ['Address', 'FullName', 'Notes']"
   ]
  },
  {
   "cell_type": "code",
   "execution_count": 461,
   "metadata": {},
   "outputs": [],
   "source": [
    "broken_utf8.fillna('', inplace=True)"
   ]
  },
  {
   "cell_type": "code",
   "execution_count": 463,
   "metadata": {
    "scrolled": true
   },
   "outputs": [],
   "source": [
    "broken_utf8[text_cols] = broken_utf8[text_cols].apply(lambda x: change_encoding(x,text_cols), axis=1)"
   ]
  },
  {
   "cell_type": "code",
   "execution_count": 464,
   "metadata": {},
   "outputs": [],
   "source": [
    "broken_utf8['Timestamp'] = broken_utf8.apply(lambda x: convert_time(x, 3), axis=1)"
   ]
  },
  {
   "cell_type": "code",
   "execution_count": 465,
   "metadata": {},
   "outputs": [],
   "source": [
    "broken_utf8['ZIP'] = broken_utf8.apply(lambda x: fix_zip(x), axis=1)"
   ]
  },
  {
   "cell_type": "code",
   "execution_count": 466,
   "metadata": {},
   "outputs": [],
   "source": [
    "broken_utf8['FullName'] = broken_utf8['FullName'].apply(lambda x: x.upper())"
   ]
  },
  {
   "cell_type": "code",
   "execution_count": 367,
   "metadata": {},
   "outputs": [],
   "source": [
    "# def duration_to_float(row):\n",
    "#     try:\n",
    "#         time = datetime.datetime.strptime(row, \"%H:%M:%S.%f\")\n",
    "#     except ValueError:\n",
    "#         hours, rest = row.split(':', 1)\n",
    "#         r = datetime.datetime.strptime(rest, \"%M:%S.%f\")\n",
    "#         r_elem = {'hours':  r.hour, 'minutes':  r.minute, 'seconds':  r.second, 'microseconds': r.microsecond}\n",
    "#         time = timedelta(hours=int(hours)) + timedelta(**r_elem)\n",
    "#         print(type(time))\n",
    "#     return datetime.datetime.strftime(time, \"%H:%M:%S.%f\")"
   ]
  },
  {
   "cell_type": "code",
   "execution_count": 363,
   "metadata": {
    "scrolled": true
   },
   "outputs": [],
   "source": [
    "# broken_utf8['FooDuration'] = broken_utf8['FooDuration'].apply(lambda x: duration_to_float(x))\n",
    "# broken_utf8['BarDuration'] = broken_utf8['BarDuration'].apply(lambda x: duration_to_float(x))"
   ]
  },
  {
   "cell_type": "code",
   "execution_count": 467,
   "metadata": {},
   "outputs": [],
   "source": [
    "broken_utf8['TotalDuration'] = broken_utf8.apply(lambda x: time_diff(x), axis=1)"
   ]
  },
  {
   "cell_type": "code",
   "execution_count": 496,
   "metadata": {},
   "outputs": [],
   "source": [
    "broken_utf8['Notes'] = broken_utf8['Notes'].apply(lambda x: note_fixer(x))"
   ]
  },
  {
   "cell_type": "code",
   "execution_count": 497,
   "metadata": {
    "scrolled": true
   },
   "outputs": [
    {
     "data": {
      "text/html": [
       "<div>\n",
       "<style scoped>\n",
       "    .dataframe tbody tr th:only-of-type {\n",
       "        vertical-align: middle;\n",
       "    }\n",
       "\n",
       "    .dataframe tbody tr th {\n",
       "        vertical-align: top;\n",
       "    }\n",
       "\n",
       "    .dataframe thead th {\n",
       "        text-align: right;\n",
       "    }\n",
       "</style>\n",
       "<table border=\"1\" class=\"dataframe\">\n",
       "  <thead>\n",
       "    <tr style=\"text-align: right;\">\n",
       "      <th></th>\n",
       "      <th>Timestamp</th>\n",
       "      <th>Address</th>\n",
       "      <th>ZIP</th>\n",
       "      <th>FullName</th>\n",
       "      <th>FooDuration</th>\n",
       "      <th>BarDuration</th>\n",
       "      <th>TotalDuration</th>\n",
       "      <th>Notes</th>\n",
       "    </tr>\n",
       "  </thead>\n",
       "  <tbody>\n",
       "    <tr>\n",
       "      <th>0</th>\n",
       "      <td>2011-04-01T08:00:00</td>\n",
       "      <td>123 4th St, Anywhere, AA</td>\n",
       "      <td>94121</td>\n",
       "      <td>MONKEY ALBERTO</td>\n",
       "      <td>1:23:32.123</td>\n",
       "      <td>1:32:33.123</td>\n",
       "      <td>10565.246</td>\n",
       "      <td>I am the very model of a modern major general</td>\n",
       "    </tr>\n",
       "    <tr>\n",
       "      <th>1</th>\n",
       "      <td>2014-03-11T21:00:00</td>\n",
       "      <td>Somewhere Else, In Another Time, BB</td>\n",
       "      <td>00001</td>\n",
       "      <td>SUPERMAN ÜBERTAN</td>\n",
       "      <td>111:23:32.123</td>\n",
       "      <td>1:32:33.123</td>\n",
       "      <td>406565.246</td>\n",
       "      <td>This is some Unicode right h�xxx ü ¡! 😀</td>\n",
       "    </tr>\n",
       "    <tr>\n",
       "      <th>2</th>\n",
       "      <td>2016-02-29T09:11:11</td>\n",
       "      <td>111 Ste. #123123123</td>\n",
       "      <td>01101</td>\n",
       "      <td>RÉSUMÉ RON</td>\n",
       "      <td>31:23:32.123</td>\n",
       "      <td>1:32:33.123</td>\n",
       "      <td>118565.246</td>\n",
       "      <td>🏳️🏴🏳️🏴</td>\n",
       "    </tr>\n",
       "    <tr>\n",
       "      <th>3</th>\n",
       "      <td>2010-12-31T21:00:01</td>\n",
       "      <td>This Is Not An Address, BusyTown, BT</td>\n",
       "      <td>94121</td>\n",
       "      <td>MARY 1</td>\n",
       "      <td>1:23:32.123</td>\n",
       "      <td>0:00:00.000</td>\n",
       "      <td>5012.123</td>\n",
       "      <td>I like Emoji! 🍏🍎😍</td>\n",
       "    </tr>\n",
       "    <tr>\n",
       "      <th>4</th>\n",
       "      <td>2016-12-31T20:59:59</td>\n",
       "      <td>123 Gangnam Style Lives Here, Gangnam Town</td>\n",
       "      <td>31403</td>\n",
       "      <td>ANTICIPATION OF UNICODE FAILURE</td>\n",
       "      <td>1:23:32.123</td>\n",
       "      <td>1:32:33.123</td>\n",
       "      <td>10565.246</td>\n",
       "      <td>I like Math Symbols! ≱≰⨌⊚</td>\n",
       "    </tr>\n",
       "  </tbody>\n",
       "</table>\n",
       "</div>"
      ],
      "text/plain": [
       "             Timestamp                                     Address    ZIP  \\\n",
       "0  2011-04-01T08:00:00                    123 4th St, Anywhere, AA  94121   \n",
       "1  2014-03-11T21:00:00         Somewhere Else, In Another Time, BB  00001   \n",
       "2  2016-02-29T09:11:11                         111 Ste. #123123123  01101   \n",
       "3  2010-12-31T21:00:01        This Is Not An Address, BusyTown, BT  94121   \n",
       "4  2016-12-31T20:59:59  123 Gangnam Style Lives Here, Gangnam Town  31403   \n",
       "\n",
       "                          FullName    FooDuration  BarDuration  TotalDuration  \\\n",
       "0                   MONKEY ALBERTO    1:23:32.123  1:32:33.123      10565.246   \n",
       "1                 SUPERMAN ÜBERTAN  111:23:32.123  1:32:33.123     406565.246   \n",
       "2                       RÉSUMÉ RON   31:23:32.123  1:32:33.123     118565.246   \n",
       "3                           MARY 1    1:23:32.123  0:00:00.000       5012.123   \n",
       "4  ANTICIPATION OF UNICODE FAILURE    1:23:32.123  1:32:33.123      10565.246   \n",
       "\n",
       "                                           Notes  \n",
       "0  I am the very model of a modern major general  \n",
       "1        This is some Unicode right h�xxx ü ¡! 😀  \n",
       "2                                         🏳️🏴🏳️🏴  \n",
       "3                              I like Emoji! 🍏🍎😍  \n",
       "4                      I like Math Symbols! ≱≰⨌⊚  "
      ]
     },
     "execution_count": 497,
     "metadata": {},
     "output_type": "execute_result"
    }
   ],
   "source": [
    "broken_utf8.head()"
   ]
  },
  {
   "cell_type": "code",
   "execution_count": 502,
   "metadata": {},
   "outputs": [],
   "source": [
    "broken_utf8.to_csv('test.csv', index=False)"
   ]
  }
 ],
 "metadata": {
  "kernelspec": {
   "display_name": "Python 3",
   "language": "python",
   "name": "python3"
  },
  "language_info": {
   "codemirror_mode": {
    "name": "ipython",
    "version": 3
   },
   "file_extension": ".py",
   "mimetype": "text/x-python",
   "name": "python",
   "nbconvert_exporter": "python",
   "pygments_lexer": "ipython3",
   "version": "3.6.5"
  }
 },
 "nbformat": 4,
 "nbformat_minor": 2
}
